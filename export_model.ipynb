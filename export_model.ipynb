{
 "cells": [
  {
   "cell_type": "code",
   "execution_count": 1,
   "id": "ede1f2e8",
   "metadata": {},
   "outputs": [
    {
     "name": "stdout",
     "output_type": "stream",
     "text": [
      "Encoders exported as company_encoder.pkl, cpu_company_encoder.pkl, gpu_company_encoder.pkl\n"
     ]
    }
   ],
   "source": [
    "import pandas as pd\n",
    "import joblib\n",
    "from sklearn.preprocessing import LabelEncoder\n",
    "\n",
    "# Load dataset\n",
    "df = pd.read_csv('laptop_prices.csv')\n",
    "\n",
    "# Fit and export encoders\n",
    "company_encoder = LabelEncoder()\n",
    "company_encoder.fit(df['Company'])\n",
    "joblib.dump(company_encoder, 'company_encoder.pkl')\n",
    "\n",
    "cpu_encoder = LabelEncoder()\n",
    "cpu_encoder.fit(df['CPU_company'])\n",
    "joblib.dump(cpu_encoder, 'cpu_company_encoder.pkl')\n",
    "\n",
    "gpu_encoder = LabelEncoder()\n",
    "gpu_encoder.fit(df['GPU_company'])\n",
    "joblib.dump(gpu_encoder, 'gpu_company_encoder.pkl')\n",
    "\n",
    "print('Encoders exported as company_encoder.pkl, cpu_company_encoder.pkl, gpu_company_encoder.pkl')"
   ]
  }
 ],
 "metadata": {
  "kernelspec": {
   "display_name": "venv (3.13.5)",
   "language": "python",
   "name": "python3"
  },
  "language_info": {
   "codemirror_mode": {
    "name": "ipython",
    "version": 3
   },
   "file_extension": ".py",
   "mimetype": "text/x-python",
   "name": "python",
   "nbconvert_exporter": "python",
   "pygments_lexer": "ipython3",
   "version": "3.13.5"
  }
 },
 "nbformat": 4,
 "nbformat_minor": 5
}
